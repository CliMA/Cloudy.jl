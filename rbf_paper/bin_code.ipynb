{
 "cells": [
  {
   "cell_type": "code",
   "execution_count": 8,
   "metadata": {},
   "outputs": [],
   "source": [
    "import numpy as np\n",
    "from scipy.special import gamma"
   ]
  },
  {
   "cell_type": "code",
   "execution_count": 216,
   "metadata": {},
   "outputs": [],
   "source": [
    "# PARAMETERS\n",
    "Tmax = 14400\n",
    "nbin = 32\n",
    "dt = 100. #s\n",
    "scal = 1 # scaling factor for grid\n",
    "emin = 7.091336e-10 # mg; minimum mass for grid\n",
    "rhow = 1e-9 # mg/um^3\n",
    "\n",
    "nt = int(Tmax/dt)\n",
    "\n",
    "printtimes = np.asarray([0, Tmax//dt, Tmax/dt],dtype='int')\n",
    "\n",
    "B = 1500*1e-12 #1/sec\n",
    "\n",
    "# initial condition\n",
    "k1 = 3\n",
    "theta = 100 #um^3\n",
    "N0 = 100 # cm^-3"
   ]
  },
  {
   "cell_type": "code",
   "execution_count": 217,
   "metadata": {},
   "outputs": [],
   "source": [
    "# function for initial condition\n",
    "def gamma_init(x, N, k, theta):\n",
    "    return N*(x/theta)**k/gamma(k)*np.exp(-x/theta)\n",
    "\n",
    "# functions for kernel\n",
    "def golovin_kernel(x1,x2,B):\n",
    "    return B*(x1+x2)"
   ]
  },
  {
   "cell_type": "code",
   "execution_count": 218,
   "metadata": {},
   "outputs": [],
   "source": [
    "def courant(vgrid,dlnr):\n",
    "    nbin = len(vgrid)\n",
    "    c = np.zeros((nbin,nbin))\n",
    "    ima = np.zeros((nbin,nbin))\n",
    "    for i in range(nbin):\n",
    "        for j in range(i, nbin):\n",
    "            v0 = vgrid[i] + vgrid[j]\n",
    "            for k in range(j, nbin):\n",
    "                if vgrid[k] >= v0 and vgrid[k-1] <= v0:\n",
    "                    if c[i,j] < 1-1e-8:\n",
    "                        kk = k-1\n",
    "                        c[i,j]=np.log(v0/vgrid[kk])/(3*dlnr)\n",
    "                    else:\n",
    "                        kk=k\n",
    "                        c[i,j] = 0.0\n",
    "                    ima[i,j]=min(nbin-1,kk)\n",
    "                    break\n",
    "            c[j,i] = c[i,j]\n",
    "            ima[j,i] = ima[i,j]\n",
    "    return (c,ima)\n"
   ]
  },
  {
   "cell_type": "code",
   "execution_count": 219,
   "metadata": {},
   "outputs": [],
   "source": [
    "def lin_interp(cck):\n",
    "    n = len(cck[0])\n",
    "    ck = np.zeros((n,n))\n",
    "    for i in range(n):\n",
    "        for j in range(n):\n",
    "            jm = max(j-1,0)\n",
    "            im = max(i-1,0)\n",
    "            jp = min(j+1,n-1)\n",
    "            ip = min(i+1,n-1)\n",
    "            ck[i,j] = 0.125*(cck[i,jm]+cck[im,j]+cck[ip,j]+cck[i,jp])+0.5*cck[i,j]\n",
    "            if i==j:\n",
    "                ck[i,j]=0.5*ck[i,j]\n",
    "    return ck"
   ]
  },
  {
   "cell_type": "code",
   "execution_count": 220,
   "metadata": {},
   "outputs": [],
   "source": [
    "def g_init(x):\n",
    "    return gamma_init(x,N0,k1,theta)\n",
    "\n",
    "# kernel\n",
    "def kernel(x,y):\n",
    "    return golovin_kernel(x,y,B)"
   ]
  },
  {
   "cell_type": "code",
   "execution_count": 221,
   "metadata": {},
   "outputs": [],
   "source": [
    "# define grid\n",
    "vmin = emin / rhow\n",
    "dlnr = np.log(2)/3/scal\n",
    "gridax = 2**(1/scal)\n",
    "\n",
    "vgrid = np.zeros(nbin)\n",
    "\n",
    "vgrid[0] = vmin*0.5*(gridax+1)\n",
    "for i in range(nbin-1):\n",
    "    vgrid[i+1] = vgrid[i]*gridax\n",
    "rgrid = (vgrid/4/np.pi*3)**(1/3)\n",
    "\n",
    "# define initial condition\n",
    "gin = np.zeros(nbin)\n",
    "for i in range(nbin):\n",
    "    gin[i] = g_init(vgrid[i])\n",
    "\n",
    "# define the kernel\n",
    "cck = np.zeros((nbin,nbin))\n",
    "for i in range(nbin):\n",
    "    for j in range(i,nbin):\n",
    "        cck[i,j] = kernel(vgrid[i],vgrid[j])\n",
    "        cck[j,i] = cck[i,j]\n",
    "ck = lin_interp(cck)\n",
    "ck = ck*dt*dlnr\n",
    "\n",
    "# compute the courant numbers\n",
    "(c,ima) = courant(vgrid,dlnr)"
   ]
  },
  {
   "cell_type": "code",
   "execution_count": 222,
   "metadata": {},
   "outputs": [],
   "source": [
    "def coad(vgrid, gin, ima, ck, c, gmin=1e-60):\n",
    "    g = gin.copy()\n",
    "    nbin=len(vgrid)\n",
    "    i0=0\n",
    "    i1=nbin-1\n",
    "    # find upper and lower integration limit\n",
    "    for i in range(nbin):\n",
    "        i0 = i\n",
    "        if g[i] >= gmin:\n",
    "            break\n",
    "    for i in range(0,nbin-1,-1):\n",
    "        i1 = i\n",
    "        if g[i] >= gmin:\n",
    "            break\n",
    "\n",
    "    for i in range(i0,i1):\n",
    "        for j in range(i,i1):\n",
    "            k = int(ima[i,j])\n",
    "            kp = k+1\n",
    "            v0 = ck[i,j]*g[i]*g[j]\n",
    "            v0 = min(v0, g[i]*vgrid[j])\n",
    "            if j != k:\n",
    "                v0 = min(v0,g[j]*vgrid[i])\n",
    "            gsi=v0/vgrid[j]\n",
    "            gsj=v0/vgrid[i]\n",
    "            gsk=gsi+gsj\n",
    "            g[i]=max(g[i]-gsi,0)\n",
    "            g[j]=max(g[j]-gsj,0)\n",
    "            gk=g[k]+gsk\n",
    "            if gk > gmin:\n",
    "                x1 = np.log(g[kp]/gk+1e-60)\n",
    "                flux = gsk/x1*(np.exp(0.5*x1)-np.exp(x1*(0.5-c[i,j])))\n",
    "                flux = min(min(flux,gk),gsk)\n",
    "                \n",
    "                g[k]=gk-flux\n",
    "                g[kp]+=flux\n",
    "    return g"
   ]
  },
  {
   "cell_type": "code",
   "execution_count": 223,
   "metadata": {},
   "outputs": [],
   "source": [
    "gprev = gin.copy()\n",
    "for ij in range(nt):\n",
    "    gnext = coad(vgrid, gprev, ima, ck, c)\n",
    "    gprev = gnext.copy()"
   ]
  },
  {
   "cell_type": "code",
   "execution_count": 224,
   "metadata": {},
   "outputs": [
    {
     "name": "stdout",
     "output_type": "stream",
     "text": [
      "[5.94941389e-05 4.70915424e-04 3.68799384e-03 2.82744879e-02\n",
      " 2.07737038e-01 1.40172497e+00 7.97765138e+00 3.23033253e+01\n",
      " 6.62429382e+01 3.49034820e+01 1.23919655e+00 5.27617894e-04\n",
      " 9.12017284e-09 7.88805654e-15 1.02830756e-21 4.27117979e-29\n",
      " 8.43971349e-37 9.87336059e-45 7.76153210e-53 3.47609885e-61\n",
      " 0.00000000e+00 0.00000000e+00 0.00000000e+00 0.00000000e+00\n",
      " 0.00000000e+00 0.00000000e+00 0.00000000e+00 0.00000000e+00\n",
      " 0.00000000e+00 0.00000000e+00 0.00000000e+00 0.00000000e+00]\n"
     ]
    }
   ],
   "source": [
    "print(gprev)"
   ]
  },
  {
   "cell_type": "code",
   "execution_count": null,
   "metadata": {},
   "outputs": [],
   "source": []
  }
 ],
 "metadata": {
  "interpreter": {
   "hash": "b43cf254c70d60c2e21a7f71ba113e70c1694742e72407132919c841d907074b"
  },
  "kernelspec": {
   "display_name": "Python 3.9.4 ('edjPySDM')",
   "language": "python",
   "name": "python3"
  },
  "language_info": {
   "codemirror_mode": {
    "name": "ipython",
    "version": 3
   },
   "file_extension": ".py",
   "mimetype": "text/x-python",
   "name": "python",
   "nbconvert_exporter": "python",
   "pygments_lexer": "ipython3",
   "version": "3.9.4"
  },
  "orig_nbformat": 4
 },
 "nbformat": 4,
 "nbformat_minor": 2
}
