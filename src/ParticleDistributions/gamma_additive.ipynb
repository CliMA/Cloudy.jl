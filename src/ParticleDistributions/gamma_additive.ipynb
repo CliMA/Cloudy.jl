{
 "cells": [
  {
   "cell_type": "code",
   "execution_count": 15,
   "metadata": {},
   "outputs": [],
   "source": [
    "import numpy as np\n",
    "import scipy as sp\n",
    "from scipy.special import gamma"
   ]
  },
  {
   "cell_type": "code",
   "execution_count": 104,
   "metadata": {},
   "outputs": [],
   "source": [
    "def params_to_moments(params):\n",
    "    N = params[0:2]\n",
    "    k = params[2:4]\n",
    "    theta = params[4:]\n",
    "\n",
    "    moments = np.zeros_like(params)\n",
    "    for j in range(len(moments)):\n",
    "        moments[j] = N[0]*gamma(k[0]+j)/gamma(k[0])*theta[0]**j + N[1]*gamma(k[1]+j)/gamma(k[1])*theta[1]**j\n",
    "    \n",
    "    return moments\n",
    "\n",
    "def Jacobian_moments_of_params(params):\n",
    "    N = np.asarray(params[0:2])\n",
    "    k = np.asarray(params[2:4])\n",
    "    theta = np.asarray(params[4:])\n",
    "    # Jm[k,j] = dMk/dpj\n",
    "    Jm = np.zeros((len(params), len(params)))\n",
    "    M_k = np.zeros((len(params),2))\n",
    "    dM_k = np.zeros((len(params),2))\n",
    "\n",
    "    Jm[0,0:2] = 1\n",
    "    M_k[0,:] = 0\n",
    "    dM_k[0,:] = 0\n",
    "\n",
    "    Jm[1,0:2] = k*theta\n",
    "    M_k[1,:] = k\n",
    "    # 2 + 1*(3)\n",
    "    dM_k[1,:] = 1\n",
    "    Jm[1,2:4] = N*theta*dM_k[1,:]\n",
    "    Jm[1,4:]  = N*k\n",
    "    for j in range(2, len(params)):\n",
    "        Jm[j,0:2] = gamma(k + j)/gamma(k)*theta**j\n",
    "        M_k[j,:] = M_k[j-1,:]*(k+j-1)\n",
    "        dM_k[j,:] = M_k[j-1,:] + dM_k[j-1,:]*(k+j-2)\n",
    "        Jm[j,2:4]  = N * theta**j * dM_k[j,:]\n",
    "        Jm[j,4:] = Jm[j,0:2] * j / theta * N * (k+1)\n",
    "    \n",
    "    return Jm"
   ]
  },
  {
   "cell_type": "code",
   "execution_count": 105,
   "metadata": {},
   "outputs": [],
   "source": [
    "params_init = [100, 1, 2, 3, 10, 100]\n",
    "moments_init = params_to_moments(params_init)\n",
    "J = Jacobian_moments_of_params(params_init)"
   ]
  },
  {
   "cell_type": "code",
   "execution_count": null,
   "metadata": {},
   "outputs": [],
   "source": []
  }
 ],
 "metadata": {
  "kernelspec": {
   "display_name": "Python 3.9.4 ('edjPySDM')",
   "language": "python",
   "name": "python3"
  },
  "language_info": {
   "codemirror_mode": {
    "name": "ipython",
    "version": 3
   },
   "file_extension": ".py",
   "mimetype": "text/x-python",
   "name": "python",
   "nbconvert_exporter": "python",
   "pygments_lexer": "ipython3",
   "version": "3.9.4"
  },
  "orig_nbformat": 4,
  "vscode": {
   "interpreter": {
    "hash": "b43cf254c70d60c2e21a7f71ba113e70c1694742e72407132919c841d907074b"
   }
  }
 },
 "nbformat": 4,
 "nbformat_minor": 2
}
